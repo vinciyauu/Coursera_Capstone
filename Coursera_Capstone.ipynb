{
    "cells": [
        {
            "cell_type": "markdown",
            "metadata": {
                "collapsed": true
            },
            "source": "# Coursera Capstone Project Notebook"
        },
        {
            "cell_type": "code",
            "execution_count": 1,
            "metadata": {},
            "outputs": [],
            "source": "import pandas as pd\nimport numpy as np"
        },
        {
            "cell_type": "code",
            "execution_count": 2,
            "metadata": {},
            "outputs": [
                {
                    "name": "stdout",
                    "output_type": "stream",
                    "text": "Hello Capstone Project Course!\n"
                }
            ],
            "source": "print ('Hello Capstone Project Course!')"
        },
        {
            "cell_type": "markdown",
            "metadata": {},
            "source": "# Capstone Project - Week 1\n### 1. Introduction/Business Problem"
        },
        {
            "cell_type": "markdown",
            "metadata": {},
            "source": "A young professional, new to London, United Kingdom, is looking for a neighborhood to move to. They are looking at 3 particular areas in North London: Holland Park and Notting Hill, Angel and Islington, and Shoreditch and Aldgate (which could be grouped into their respective Boroughs).\nThey are looking for an area with good rent, and lots of amenities such as cafes, gyms, bars, etc, nearby. As a newcomer to London, they are hoping that they will be surrounded by residents aroudn their age, mid 20s. They are hoping also for good transportation links to their new job near London Bridge, as well as to central London.\n\nThis will be useful to compare different neighborhoods with one another to see which one best fits with the users' specfic interests. With additional analysis on local schools, it would also be beneficial for families looking for neighborhoods to settle into."
        },
        {
            "cell_type": "markdown",
            "metadata": {},
            "source": "### 2. Data needed"
        },
        {
            "cell_type": "markdown",
            "metadata": {},
            "source": "In order to determine the best neighborhood for our user, we will be using Foursquare location data of London to determine the venues nearby these three areas. We can group the venues by type, such as cafes, gyms, grocery stores, and subcategories such as type of cuisine for resturants or brunch offerings, and determine how many of each there are. Further analysis can be done to determine popularity of venues during certain times, such as Thursday to Saturday evenings which are known to return a high turnout of young people at particular venues such as bars and clubs.\n\nTransportation data can also be used to determine the number of major bus or tube routes that pass through the neighborhood to get to London Bridge and/or Central London, in order to determine how well connected the neighorhood is.\n"
        },
        {
            "cell_type": "code",
            "execution_count": null,
            "metadata": {},
            "outputs": [],
            "source": ""
        }
    ],
    "metadata": {
        "kernelspec": {
            "display_name": "Python 3.6",
            "language": "python",
            "name": "python3"
        },
        "language_info": {
            "codemirror_mode": {
                "name": "ipython",
                "version": 3
            },
            "file_extension": ".py",
            "mimetype": "text/x-python",
            "name": "python",
            "nbconvert_exporter": "python",
            "pygments_lexer": "ipython3",
            "version": "3.6.9"
        }
    },
    "nbformat": 4,
    "nbformat_minor": 1
}